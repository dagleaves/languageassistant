Assistant
=========

.. currentmodule:: languageassistant.assistant

.. autopydantic_model:: Assistant
   :members:
   :show-inheritance:
   :inherited-members: BaseModel
   :special-members: __call__, __add__, __mul__

   
   
   

   
   
   