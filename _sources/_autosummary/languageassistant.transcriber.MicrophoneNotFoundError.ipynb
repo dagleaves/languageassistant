languageassistant.transcriber.MicrophoneNotFoundError
=====================================================

.. currentmodule:: languageassistant.transcriber

.. autoexception:: MicrophoneNotFoundError