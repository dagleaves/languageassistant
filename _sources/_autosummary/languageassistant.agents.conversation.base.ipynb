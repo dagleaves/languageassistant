Base
====

.. automodule:: languageassistant.agents.conversation.base

    
    
    

    
    
    .. rubric:: Models

    .. autosummary::
       :toctree:
       :template: custom-model-template.rst
       :nosignatures:
    
       BaseConversationAgent
    
    

    
    
    

    
    
    

    
    
    



