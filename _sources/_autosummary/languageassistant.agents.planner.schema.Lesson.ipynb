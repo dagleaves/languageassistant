Lesson
======

.. currentmodule:: languageassistant.agents.planner.schema

.. autopydantic_model:: Lesson
   :members:
   :show-inheritance:
   :inherited-members: BaseModel
   :special-members: __call__, __add__, __mul__

   
   
   

   
   
   