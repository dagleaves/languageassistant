Transcriber
===========

.. currentmodule:: languageassistant.transcriber

.. autoclass:: Transcriber
   :members:
   :show-inheritance:
   :inherited-members:
   :special-members: __call__, __add__, __mul__

   
   
   .. rubric:: Methods

   .. autosummary::
      :nosignatures:
   
      ~Transcriber.clear_recording_buffer
      ~Transcriber.get_microphone
      ~Transcriber.run
   
   

   
   
   .. rubric:: Attributes

   .. autosummary::
   
      ~Transcriber.record_timeout
      ~Transcriber.phrase_timeout
      ~Transcriber.energy_threshold
      ~Transcriber.default_microphone
      ~Transcriber.phrase_time
      ~Transcriber.last_sample
      ~Transcriber.data_queue
      ~Transcriber.recorder
      ~Transcriber.temp_file
   
   