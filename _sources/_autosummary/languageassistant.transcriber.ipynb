﻿Transcriber
===========

.. automodule:: languageassistant.transcriber

    
    
    

    
    
    

    
    
    .. rubric:: Functions

    .. autosummary::
        :toctree:
        :template: custom-function-template.rst
        :nosignatures:
    
        get_transcription
    
    

    
    
    .. rubric:: Classes

    .. autosummary::
        :toctree:
        :template: custom-class-template.rst
        :nosignatures:
    
        BaseTranscriber
        Transcriber
    
    

    
    
    .. rubric:: Exceptions

    .. autosummary::
        :toctree:
    
        MicrophoneNotFoundError
    
    



