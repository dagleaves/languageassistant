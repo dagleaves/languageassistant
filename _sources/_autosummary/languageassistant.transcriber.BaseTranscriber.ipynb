BaseTranscriber
===============

.. currentmodule:: languageassistant.transcriber

.. autoclass:: BaseTranscriber
   :members:
   :show-inheritance:
   :inherited-members:
   :special-members: __call__, __add__, __mul__

   
   
   .. rubric:: Methods

   .. autosummary::
      :nosignatures:
   
      ~BaseTranscriber.clear_recording_buffer
      ~BaseTranscriber.run
   
   

   
   
   