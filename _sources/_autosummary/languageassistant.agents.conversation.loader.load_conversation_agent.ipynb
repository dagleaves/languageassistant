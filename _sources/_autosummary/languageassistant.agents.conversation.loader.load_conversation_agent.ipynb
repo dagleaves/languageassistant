load\_conversation\_agent
=========================

.. currentmodule:: languageassistant.agents.conversation.loader

.. autofunction:: load_conversation_agent