BasePlannerAgent
================

.. currentmodule:: languageassistant.agents.planner.base

.. autopydantic_model:: BasePlannerAgent
   :members:
   :show-inheritance:
   :inherited-members: BaseModel
   :special-members: __call__, __add__, __mul__

   
   
   

   
   
   