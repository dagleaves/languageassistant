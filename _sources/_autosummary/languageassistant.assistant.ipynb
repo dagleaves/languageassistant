﻿Assistant
=========

.. automodule:: languageassistant.assistant

    
    
    

    
    
    .. rubric:: Models

    .. autosummary::
       :toctree:
       :template: custom-model-template.rst
       :nosignatures:
    
       Assistant
    
    

    
    
    

    
    
    

    
    
    



