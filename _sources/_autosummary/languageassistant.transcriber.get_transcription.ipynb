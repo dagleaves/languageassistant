get\_transcription
==================

.. currentmodule:: languageassistant.transcriber

.. autofunction:: get_transcription