BaseTTS
=======

.. currentmodule:: languageassistant.tts

.. autopydantic_model:: BaseTTS
   :members:
   :show-inheritance:
   :inherited-members: BaseModel
   :special-members: __call__, __add__, __mul__

   
   
   

   
   
   