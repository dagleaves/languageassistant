LessonPlannerAgent
==================

.. currentmodule:: languageassistant.agents.planner.agent

.. autopydantic_model:: LessonPlannerAgent
   :members:
   :show-inheritance:
   :inherited-members: BaseModel
   :special-members: __call__, __add__, __mul__

   
   
   

   
   
   