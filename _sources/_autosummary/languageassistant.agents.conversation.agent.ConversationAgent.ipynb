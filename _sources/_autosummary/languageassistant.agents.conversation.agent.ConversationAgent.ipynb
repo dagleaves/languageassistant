ConversationAgent
=================

.. currentmodule:: languageassistant.agents.conversation.agent

.. autopydantic_model:: ConversationAgent
   :members:
   :show-inheritance:
   :inherited-members: BaseModel
   :special-members: __call__, __add__, __mul__

   
   
   

   
   
   