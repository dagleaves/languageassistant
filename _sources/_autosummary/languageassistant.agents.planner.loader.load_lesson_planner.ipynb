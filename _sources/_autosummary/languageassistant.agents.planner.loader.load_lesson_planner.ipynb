load\_lesson\_planner
=====================

.. currentmodule:: languageassistant.agents.planner.loader

.. autofunction:: load_lesson_planner