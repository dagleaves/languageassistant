BaseConversationAgent
=====================

.. currentmodule:: languageassistant.agents.conversation.base

.. autopydantic_model:: BaseConversationAgent
   :members:
   :show-inheritance:
   :inherited-members: BaseModel
   :special-members: __call__, __add__, __mul__

   
   
   

   
   
   